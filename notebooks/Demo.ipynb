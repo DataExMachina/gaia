{
 "cells": [
  {
   "cell_type": "markdown",
   "metadata": {},
   "source": [
    "### Packages ans utils"
   ]
  },
  {
   "cell_type": "code",
   "execution_count": 1,
   "metadata": {},
   "outputs": [],
   "source": [
    "import numpy as np\n",
    "import pandas as pd\n",
    "import geopandas as gpd\n",
    "from gaia.ml import SpatialModel\n",
    "\n",
    "from sqlalchemy import create_engine\n",
    "%matplotlib inline"
   ]
  },
  {
   "cell_type": "markdown",
   "metadata": {},
   "source": [
    "### Load data"
   ]
  },
  {
   "cell_type": "code",
   "execution_count": 2,
   "metadata": {},
   "outputs": [
    {
     "output_type": "stream",
     "name": "stdout",
     "text": "postgresql+psycopg2://focalai:ai@127.0.0.1:5432/focalai\n"
    }
   ],
   "source": [
    "conn_params = {\n",
    "    \"host\": \"127.0.0.1\",\n",
    "    \"port\": 5432,\n",
    "    \"user\": \"focalai\",\n",
    "    \"password\": \"ai\",\n",
    "    \"database\": \"focalai\"\n",
    "}\n",
    "uri = \"postgresql+psycopg2://{user}:{password}@{host}:{port}/{database}\".format(**conn_params)\n",
    "print(uri)\n",
    "engine = create_engine(uri)"
   ]
  },
  {
   "cell_type": "code",
   "execution_count": 3,
   "metadata": {},
   "outputs": [
    {
     "output_type": "execute_result",
     "data": {
      "text/plain": "  date_mutation  id_mutation  valeur_fonciere  surface_totale      prix_m2  \\\n0    2019-12-31  2019-920640          61000.0           50.90  1198.428291   \n1    2019-12-31  2019-925242         149000.0          128.67  1158.001088   \n2    2019-12-31  2019-941011         130000.0           60.83  2137.103403   \n3    2019-12-31  2019-947089         160000.0           60.10  2662.229617   \n4    2019-12-31  2019-947133         153000.0           52.92  2891.156463   \n\n                          wkt                      geom  \n0  POINT (6.446713 48.173733)  POINT (6.44671 48.17373)  \n1   POINT (6.59617 48.015631)  POINT (6.59617 48.01563)  \n2   POINT (2.533537 48.67825)  POINT (2.53354 48.67825)  \n3  POINT (2.262482 48.735289)  POINT (2.26248 48.73529)  \n4  POINT (2.383276 48.695156)  POINT (2.38328 48.69516)  ",
      "text/html": "<div>\n<style scoped>\n    .dataframe tbody tr th:only-of-type {\n        vertical-align: middle;\n    }\n\n    .dataframe tbody tr th {\n        vertical-align: top;\n    }\n\n    .dataframe thead th {\n        text-align: right;\n    }\n</style>\n<table border=\"1\" class=\"dataframe\">\n  <thead>\n    <tr style=\"text-align: right;\">\n      <th></th>\n      <th>date_mutation</th>\n      <th>id_mutation</th>\n      <th>valeur_fonciere</th>\n      <th>surface_totale</th>\n      <th>prix_m2</th>\n      <th>wkt</th>\n      <th>geom</th>\n    </tr>\n  </thead>\n  <tbody>\n    <tr>\n      <th>0</th>\n      <td>2019-12-31</td>\n      <td>2019-920640</td>\n      <td>61000.0</td>\n      <td>50.90</td>\n      <td>1198.428291</td>\n      <td>POINT (6.446713 48.173733)</td>\n      <td>POINT (6.44671 48.17373)</td>\n    </tr>\n    <tr>\n      <th>1</th>\n      <td>2019-12-31</td>\n      <td>2019-925242</td>\n      <td>149000.0</td>\n      <td>128.67</td>\n      <td>1158.001088</td>\n      <td>POINT (6.59617 48.015631)</td>\n      <td>POINT (6.59617 48.01563)</td>\n    </tr>\n    <tr>\n      <th>2</th>\n      <td>2019-12-31</td>\n      <td>2019-941011</td>\n      <td>130000.0</td>\n      <td>60.83</td>\n      <td>2137.103403</td>\n      <td>POINT (2.533537 48.67825)</td>\n      <td>POINT (2.53354 48.67825)</td>\n    </tr>\n    <tr>\n      <th>3</th>\n      <td>2019-12-31</td>\n      <td>2019-947089</td>\n      <td>160000.0</td>\n      <td>60.10</td>\n      <td>2662.229617</td>\n      <td>POINT (2.262482 48.735289)</td>\n      <td>POINT (2.26248 48.73529)</td>\n    </tr>\n    <tr>\n      <th>4</th>\n      <td>2019-12-31</td>\n      <td>2019-947133</td>\n      <td>153000.0</td>\n      <td>52.92</td>\n      <td>2891.156463</td>\n      <td>POINT (2.383276 48.695156)</td>\n      <td>POINT (2.38328 48.69516)</td>\n    </tr>\n  </tbody>\n</table>\n</div>"
     },
     "metadata": {},
     "execution_count": 3
    }
   ],
   "source": [
    "dvf_query = \"\"\"\n",
    "        SELECT * FROM dvf\n",
    "        WHERE ST_DistanceSphere(geom, ST_GeomFromText('POINT({longitude} {latitude})', 4326))<1000000\n",
    "        ORDER BY date_mutation DESC\n",
    "        LIMIT 100000\n",
    "        \"\"\".format(**{'longitude': 2.33, 'latitude': 48.86})\n",
    "dvf_df = gpd.GeoDataFrame.from_postgis(dvf_query, engine)\n",
    "dvf_df.head()"
   ]
  },
  {
   "cell_type": "code",
   "execution_count": 4,
   "metadata": {},
   "outputs": [],
   "source": [
    "#dvf_df.plot(figsize=(25, 25), column='prix_m2', s=5)"
   ]
  },
  {
   "cell_type": "markdown",
   "metadata": {},
   "source": [
    "### SpatialModel"
   ]
  },
  {
   "cell_type": "code",
   "execution_count": 5,
   "metadata": {},
   "outputs": [],
   "source": [
    "from sklearn.cluster import KMeans\n",
    "from sklearn.ensemble import RandomForestRegressor\n",
    "from sklearn.metrics.pairwise import rbf_kernel\n",
    "spatial_estimator = SpatialModel(\n",
    "    cluster=KMeans(n_clusters=50),\n",
    "    estimator=RandomForestRegressor(n_estimators=25, n_jobs=-1)\n",
    "    )"
   ]
  },
  {
   "cell_type": "code",
   "execution_count": 24,
   "metadata": {},
   "outputs": [],
   "source": [
    "from sklearn.model_selection import train_test_split\n",
    "train, test = train_test_split(dvf_df, test_size=0.33, random_state=3105)\n",
    "\n",
    "\n",
    "Z_train = pd.DataFrame(zip(train['geom'].x.tolist(), train['geom'].y.tolist()))\n",
    "X_train = pd.concat([train[['surface_totale']].reset_index(drop=True), Z_train], axis=1)\n",
    "y_train = train['prix_m2']\n",
    "\n",
    "Z_test = pd.DataFrame(zip(test['geom'].x.tolist(), test['geom'].y.tolist()))\n",
    "X_test = pd.concat([test[['surface_totale']].reset_index(drop=True), Z_test], axis=1)\n",
    "y_test = test['prix_m2']"
   ]
  },
  {
   "cell_type": "code",
   "execution_count": 25,
   "metadata": {},
   "outputs": [],
   "source": [
    "spatial_estimator.fit(X_train, Z_train, y_train)"
   ]
  },
  {
   "cell_type": "code",
   "execution_count": 26,
   "metadata": {},
   "outputs": [],
   "source": [
    "y_pred = spatial_estimator.predict(X_test, Z_test)"
   ]
  },
  {
   "cell_type": "code",
   "execution_count": 27,
   "metadata": {},
   "outputs": [],
   "source": [
    "errors = pd.DataFrame(zip(y_test, y_pred))"
   ]
  },
  {
   "cell_type": "code",
   "execution_count": 28,
   "metadata": {},
   "outputs": [],
   "source": [
    "from sklearn.metrics import mean_absolute_error"
   ]
  },
  {
   "cell_type": "code",
   "execution_count": 29,
   "metadata": {},
   "outputs": [
    {
     "output_type": "execute_result",
     "data": {
      "text/plain": "743.1402101882552"
     },
     "metadata": {},
     "execution_count": 29
    }
   ],
   "source": [
    "mean_absolute_error(y_test, y_pred)"
   ]
  },
  {
   "cell_type": "code",
   "execution_count": 31,
   "metadata": {},
   "outputs": [
    {
     "output_type": "execute_result",
     "data": {
      "text/plain": "                 0            1\n0      2822.426330  3235.057168\n1      5643.474790  5909.651260\n2      4253.882512  5608.248403\n3      1988.834613  2434.017425\n4      1516.493248  1714.306126\n...            ...          ...\n32995  5387.071030  5935.413417\n32996  4608.294931  4299.454486\n32997  3873.331589  3029.554445\n32998  3325.942350  3795.401590\n32999  2706.777083  2812.001232\n\n[33000 rows x 2 columns]",
      "text/html": "<div>\n<style scoped>\n    .dataframe tbody tr th:only-of-type {\n        vertical-align: middle;\n    }\n\n    .dataframe tbody tr th {\n        vertical-align: top;\n    }\n\n    .dataframe thead th {\n        text-align: right;\n    }\n</style>\n<table border=\"1\" class=\"dataframe\">\n  <thead>\n    <tr style=\"text-align: right;\">\n      <th></th>\n      <th>0</th>\n      <th>1</th>\n    </tr>\n  </thead>\n  <tbody>\n    <tr>\n      <th>0</th>\n      <td>2822.426330</td>\n      <td>3235.057168</td>\n    </tr>\n    <tr>\n      <th>1</th>\n      <td>5643.474790</td>\n      <td>5909.651260</td>\n    </tr>\n    <tr>\n      <th>2</th>\n      <td>4253.882512</td>\n      <td>5608.248403</td>\n    </tr>\n    <tr>\n      <th>3</th>\n      <td>1988.834613</td>\n      <td>2434.017425</td>\n    </tr>\n    <tr>\n      <th>4</th>\n      <td>1516.493248</td>\n      <td>1714.306126</td>\n    </tr>\n    <tr>\n      <th>...</th>\n      <td>...</td>\n      <td>...</td>\n    </tr>\n    <tr>\n      <th>32995</th>\n      <td>5387.071030</td>\n      <td>5935.413417</td>\n    </tr>\n    <tr>\n      <th>32996</th>\n      <td>4608.294931</td>\n      <td>4299.454486</td>\n    </tr>\n    <tr>\n      <th>32997</th>\n      <td>3873.331589</td>\n      <td>3029.554445</td>\n    </tr>\n    <tr>\n      <th>32998</th>\n      <td>3325.942350</td>\n      <td>3795.401590</td>\n    </tr>\n    <tr>\n      <th>32999</th>\n      <td>2706.777083</td>\n      <td>2812.001232</td>\n    </tr>\n  </tbody>\n</table>\n<p>33000 rows × 2 columns</p>\n</div>"
     },
     "metadata": {},
     "execution_count": 31
    }
   ],
   "source": [
    "errors"
   ]
  },
  {
   "cell_type": "code",
   "execution_count": null,
   "metadata": {},
   "outputs": [],
   "source": []
  }
 ],
 "metadata": {
  "kernelspec": {
   "display_name": "Python 3.6.9 64-bit ('.venv': venv)",
   "language": "python",
   "name": "python36964bitvenvvenv1deab3ec963c417cb9ad5b0b0fa3740a"
  },
  "language_info": {
   "codemirror_mode": {
    "name": "ipython",
    "version": 3
   },
   "file_extension": ".py",
   "mimetype": "text/x-python",
   "name": "python",
   "nbconvert_exporter": "python",
   "pygments_lexer": "ipython3",
   "version": "3.6.9-final"
  }
 },
 "nbformat": 4,
 "nbformat_minor": 4
}